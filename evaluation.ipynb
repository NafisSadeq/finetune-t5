{
 "cells": [
  {
   "cell_type": "code",
   "execution_count": 1,
   "id": "d1f3495d-cfca-4b7a-8164-ce3a834d59ba",
   "metadata": {},
   "outputs": [
    {
     "name": "stdout",
     "output_type": "stream",
     "text": [
      "Requirement already satisfied: nltk in /home/nafis/.virtualenvs/crs/lib/python3.10/site-packages (3.8.1)\n",
      "Requirement already satisfied: torch in /home/nafis/.virtualenvs/crs/lib/python3.10/site-packages (1.13.0)\n",
      "Requirement already satisfied: transformers in /home/nafis/.virtualenvs/crs/lib/python3.10/site-packages (4.24.0)\n",
      "Requirement already satisfied: evaluate in /home/nafis/.virtualenvs/crs/lib/python3.10/site-packages (0.4.0)\n",
      "Requirement already satisfied: bert_score in /home/nafis/.virtualenvs/crs/lib/python3.10/site-packages (0.3.13)\n",
      "Requirement already satisfied: rouge_score in /home/nafis/.virtualenvs/crs/lib/python3.10/site-packages (0.1.2)\n",
      "Requirement already satisfied: tqdm in /home/nafis/.virtualenvs/crs/lib/python3.10/site-packages (from nltk) (4.64.1)\n",
      "Requirement already satisfied: click in /home/nafis/.virtualenvs/crs/lib/python3.10/site-packages (from nltk) (8.1.3)\n",
      "Requirement already satisfied: regex>=2021.8.3 in /home/nafis/.virtualenvs/crs/lib/python3.10/site-packages (from nltk) (2022.10.31)\n",
      "Requirement already satisfied: joblib in /home/nafis/.virtualenvs/crs/lib/python3.10/site-packages (from nltk) (1.2.0)\n",
      "Requirement already satisfied: nvidia-cublas-cu11==11.10.3.66 in /home/nafis/.virtualenvs/crs/lib/python3.10/site-packages (from torch) (11.10.3.66)\n",
      "Requirement already satisfied: typing-extensions in /home/nafis/.virtualenvs/crs/lib/python3.10/site-packages (from torch) (4.4.0)\n",
      "Requirement already satisfied: nvidia-cuda-runtime-cu11==11.7.99 in /home/nafis/.virtualenvs/crs/lib/python3.10/site-packages (from torch) (11.7.99)\n",
      "Requirement already satisfied: nvidia-cuda-nvrtc-cu11==11.7.99 in /home/nafis/.virtualenvs/crs/lib/python3.10/site-packages (from torch) (11.7.99)\n",
      "Requirement already satisfied: nvidia-cudnn-cu11==8.5.0.96 in /home/nafis/.virtualenvs/crs/lib/python3.10/site-packages (from torch) (8.5.0.96)\n",
      "Requirement already satisfied: wheel in /home/nafis/.virtualenvs/crs/lib/python3.10/site-packages (from nvidia-cublas-cu11==11.10.3.66->torch) (0.37.1)\n",
      "Requirement already satisfied: setuptools in /home/nafis/.virtualenvs/crs/lib/python3.10/site-packages (from nvidia-cublas-cu11==11.10.3.66->torch) (65.5.1)\n",
      "Requirement already satisfied: packaging>=20.0 in /home/nafis/.virtualenvs/crs/lib/python3.10/site-packages (from transformers) (21.3)\n",
      "Requirement already satisfied: pyyaml>=5.1 in /home/nafis/.virtualenvs/crs/lib/python3.10/site-packages (from transformers) (6.0)\n",
      "Requirement already satisfied: filelock in /home/nafis/.virtualenvs/crs/lib/python3.10/site-packages (from transformers) (3.8.0)\n",
      "Requirement already satisfied: requests in /home/nafis/.virtualenvs/crs/lib/python3.10/site-packages (from transformers) (2.28.1)\n",
      "Requirement already satisfied: numpy>=1.17 in /home/nafis/.virtualenvs/crs/lib/python3.10/site-packages (from transformers) (1.23.5)\n",
      "Requirement already satisfied: huggingface-hub<1.0,>=0.10.0 in /home/nafis/.virtualenvs/crs/lib/python3.10/site-packages (from transformers) (0.11.0)\n",
      "Requirement already satisfied: tokenizers!=0.11.3,<0.14,>=0.11.1 in /home/nafis/.virtualenvs/crs/lib/python3.10/site-packages (from transformers) (0.13.2)\n",
      "Requirement already satisfied: datasets>=2.0.0 in /home/nafis/.virtualenvs/crs/lib/python3.10/site-packages (from evaluate) (2.7.1)\n",
      "Requirement already satisfied: multiprocess in /home/nafis/.virtualenvs/crs/lib/python3.10/site-packages (from evaluate) (0.70.14)\n",
      "Requirement already satisfied: xxhash in /home/nafis/.virtualenvs/crs/lib/python3.10/site-packages (from evaluate) (3.1.0)\n",
      "Requirement already satisfied: dill in /home/nafis/.virtualenvs/crs/lib/python3.10/site-packages (from evaluate) (0.3.6)\n",
      "Requirement already satisfied: responses<0.19 in /home/nafis/.virtualenvs/crs/lib/python3.10/site-packages (from evaluate) (0.18.0)\n",
      "Requirement already satisfied: fsspec[http]>=2021.05.0 in /home/nafis/.virtualenvs/crs/lib/python3.10/site-packages (from evaluate) (2022.11.0)\n",
      "Requirement already satisfied: pandas in /home/nafis/.virtualenvs/crs/lib/python3.10/site-packages (from evaluate) (1.5.2)\n",
      "Requirement already satisfied: matplotlib in /home/nafis/.virtualenvs/crs/lib/python3.10/site-packages (from bert_score) (3.7.0)\n",
      "Requirement already satisfied: absl-py in /home/nafis/.virtualenvs/crs/lib/python3.10/site-packages (from rouge_score) (1.3.0)\n",
      "Requirement already satisfied: six>=1.14.0 in /home/nafis/.virtualenvs/crs/lib/python3.10/site-packages (from rouge_score) (1.16.0)\n",
      "Requirement already satisfied: pyarrow>=6.0.0 in /home/nafis/.virtualenvs/crs/lib/python3.10/site-packages (from datasets>=2.0.0->evaluate) (10.0.1)\n",
      "Requirement already satisfied: aiohttp in /home/nafis/.virtualenvs/crs/lib/python3.10/site-packages (from datasets>=2.0.0->evaluate) (3.8.3)\n",
      "Requirement already satisfied: pyparsing!=3.0.5,>=2.0.2 in /home/nafis/.virtualenvs/crs/lib/python3.10/site-packages (from packaging>=20.0->transformers) (3.0.9)\n",
      "Requirement already satisfied: python-dateutil>=2.8.1 in /home/nafis/.virtualenvs/crs/lib/python3.10/site-packages (from pandas->evaluate) (2.8.2)\n",
      "Requirement already satisfied: pytz>=2020.1 in /home/nafis/.virtualenvs/crs/lib/python3.10/site-packages (from pandas->evaluate) (2022.6)\n",
      "Requirement already satisfied: charset-normalizer<3,>=2 in /home/nafis/.virtualenvs/crs/lib/python3.10/site-packages (from requests->transformers) (2.1.1)\n",
      "Requirement already satisfied: urllib3<1.27,>=1.21.1 in /home/nafis/.virtualenvs/crs/lib/python3.10/site-packages (from requests->transformers) (1.26.13)\n",
      "Requirement already satisfied: idna<4,>=2.5 in /home/nafis/.virtualenvs/crs/lib/python3.10/site-packages (from requests->transformers) (3.4)\n",
      "Requirement already satisfied: certifi>=2017.4.17 in /home/nafis/.virtualenvs/crs/lib/python3.10/site-packages (from requests->transformers) (2022.9.24)\n",
      "Requirement already satisfied: fonttools>=4.22.0 in /home/nafis/.virtualenvs/crs/lib/python3.10/site-packages (from matplotlib->bert_score) (4.38.0)\n",
      "Requirement already satisfied: cycler>=0.10 in /home/nafis/.virtualenvs/crs/lib/python3.10/site-packages (from matplotlib->bert_score) (0.11.0)\n",
      "Requirement already satisfied: kiwisolver>=1.0.1 in /home/nafis/.virtualenvs/crs/lib/python3.10/site-packages (from matplotlib->bert_score) (1.4.4)\n",
      "Requirement already satisfied: contourpy>=1.0.1 in /home/nafis/.virtualenvs/crs/lib/python3.10/site-packages (from matplotlib->bert_score) (1.0.7)\n",
      "Requirement already satisfied: pillow>=6.2.0 in /home/nafis/.virtualenvs/crs/lib/python3.10/site-packages (from matplotlib->bert_score) (9.3.0)\n",
      "Requirement already satisfied: frozenlist>=1.1.1 in /home/nafis/.virtualenvs/crs/lib/python3.10/site-packages (from aiohttp->datasets>=2.0.0->evaluate) (1.3.3)\n",
      "Requirement already satisfied: yarl<2.0,>=1.0 in /home/nafis/.virtualenvs/crs/lib/python3.10/site-packages (from aiohttp->datasets>=2.0.0->evaluate) (1.8.1)\n",
      "Requirement already satisfied: async-timeout<5.0,>=4.0.0a3 in /home/nafis/.virtualenvs/crs/lib/python3.10/site-packages (from aiohttp->datasets>=2.0.0->evaluate) (4.0.2)\n",
      "Requirement already satisfied: multidict<7.0,>=4.5 in /home/nafis/.virtualenvs/crs/lib/python3.10/site-packages (from aiohttp->datasets>=2.0.0->evaluate) (6.0.2)\n",
      "Requirement already satisfied: attrs>=17.3.0 in /home/nafis/.virtualenvs/crs/lib/python3.10/site-packages (from aiohttp->datasets>=2.0.0->evaluate) (22.1.0)\n",
      "Requirement already satisfied: aiosignal>=1.1.2 in /home/nafis/.virtualenvs/crs/lib/python3.10/site-packages (from aiohttp->datasets>=2.0.0->evaluate) (1.3.1)\n",
      "\n",
      "\u001b[1m[\u001b[0m\u001b[34;49mnotice\u001b[0m\u001b[1;39;49m]\u001b[0m\u001b[39;49m A new release of pip available: \u001b[0m\u001b[31;49m22.3.1\u001b[0m\u001b[39;49m -> \u001b[0m\u001b[32;49m23.0.1\u001b[0m\n",
      "\u001b[1m[\u001b[0m\u001b[34;49mnotice\u001b[0m\u001b[1;39;49m]\u001b[0m\u001b[39;49m To update, run: \u001b[0m\u001b[32;49mpip install --upgrade pip\u001b[0m\n"
     ]
    }
   ],
   "source": [
    "!pip install nltk torch transformers evaluate bert_score rouge_score\n",
    "import sys\n",
    "import nltk"
   ]
  },
  {
   "cell_type": "code",
   "execution_count": 2,
   "id": "01d074aa-c470-4614-8043-a051eae05200",
   "metadata": {},
   "outputs": [],
   "source": [
    "#Load groundtruth and predictions\n",
    "prediction_list=[]\n",
    "groundtruth_list=[]\n",
    "\n",
    "prediction_length_sum=[]\n",
    "groundtruth_length_sum=[]\n",
    "dist_bigram_list=[]\n",
    "dist_trigram_list=[]\n",
    "all_prediction_text=\"\""
   ]
  },
  {
   "cell_type": "code",
   "execution_count": 3,
   "id": "78dadf9d-6440-449f-b5fe-55144fd68cfc",
   "metadata": {},
   "outputs": [],
   "source": [
    "with open(\"predictions.tsv\",'r') as file:\n",
    "    header=file.readline()\n",
    "\n",
    "    for line in file:\n",
    "        parts=line.strip().split('\\t')\n",
    "        prediction=parts[1]\n",
    "        groundtruth=parts[2]\n",
    "        \n",
    "        if(len(nltk.word_tokenize(prediction))==0):\n",
    "            continue\n",
    "\n",
    "        prediction_list.append(prediction)\n",
    "        groundtruth_list.append(groundtruth)\n",
    "\n",
    "        \n",
    "        pred_tokens=nltk.word_tokenize(prediction)\n",
    "        ground_tokens=nltk.word_tokenize(groundtruth)\n",
    "        \n",
    "        prediction_length_sum.append(len(pred_tokens))\n",
    "        groundtruth_length_sum.append(len(ground_tokens))\n",
    "            \n",
    "        dist_bigram_list.append(len(list(set(list(nltk.bigrams(pred_tokens)))))/len(pred_tokens))\n",
    "        dist_trigram_list.append(len(list(set(list(nltk.trigrams(pred_tokens)))))/len(pred_tokens))\n",
    "        \n",
    "        all_prediction_text+=\" \"+prediction"
   ]
  },
  {
   "cell_type": "code",
   "execution_count": 4,
   "id": "bd143027-d396-48be-900d-e97f31c85145",
   "metadata": {},
   "outputs": [],
   "source": [
    "# Evaluation\n",
    "from evaluate import load\n",
    "from statistics import mean\n",
    "\n",
    "perplexity = load(\"perplexity\", module_type=\"metric\")\n",
    "bleu = load(\"bleu\")\n",
    "bertscore = load(\"bertscore\")\n",
    "rouge = load('rouge')"
   ]
  },
  {
   "cell_type": "code",
   "execution_count": 5,
   "id": "46c257ea-4669-4231-92a3-cb9d1a47ae4b",
   "metadata": {},
   "outputs": [
    {
     "name": "stderr",
     "output_type": "stream",
     "text": [
      "Using pad_token, but it is not set yet.\n"
     ]
    },
    {
     "data": {
      "application/vnd.jupyter.widget-view+json": {
       "model_id": "ed86e554b5b44fe6aa4d4a79dc0ad0df",
       "version_major": 2,
       "version_minor": 0
      },
      "text/plain": [
       "  0%|          | 0/442 [00:00<?, ?it/s]"
      ]
     },
     "metadata": {},
     "output_type": "display_data"
    },
    {
     "name": "stdout",
     "output_type": "stream",
     "text": [
      "Mean Perplexity with GPT2: 250.67663101611436\n",
      "BLEU-2: 0.3867942092676606\n",
      "BLEU-3: 0.36073829243562455\n",
      "BLEU-4: 0.3326578445520932\n",
      "BERT Score [Precision,Recall,F1]: 0.9215647799867027 0.8893884407725637 0.9048125814053667\n",
      "ROUGE {'rouge1': 0.4888599938118462, 'rouge2': 0.3725515196790248, 'rougeL': 0.45582259132216413, 'rougeLsum': 0.45591557544161865}\n"
     ]
    }
   ],
   "source": [
    "groundtruth_lol=[[x] for x in groundtruth_list]\n",
    "\n",
    "results = perplexity.compute(predictions=prediction_list, model_id='gpt2')\n",
    "print(\"Mean Perplexity with GPT2:\",results['mean_perplexity'])\n",
    "results = bleu.compute(predictions=prediction_list, references=groundtruth_lol,max_order=2)\n",
    "print(\"BLEU-2:\",results['bleu'])\n",
    "results = bleu.compute(predictions=prediction_list, references=groundtruth_lol,max_order=3)\n",
    "print(\"BLEU-3:\",results['bleu'])\n",
    "results = bleu.compute(predictions=prediction_list, references=groundtruth_lol,max_order=4)\n",
    "print(\"BLEU-4:\",results['bleu'])\n",
    "results = bertscore.compute(predictions=prediction_list, references=groundtruth_list, lang=\"en\")\n",
    "print(\"BERT Score [Precision,Recall,F1]:\",mean(results['precision']),mean(results['recall']),mean(results['f1']))\n",
    "results = rouge.compute(predictions=prediction_list,references=groundtruth_list)\n",
    "print(\"ROUGE\",results)"
   ]
  },
  {
   "cell_type": "code",
   "execution_count": 6,
   "id": "8ecb7e0f-aae4-43c5-b2f9-1d2a4d22ed8e",
   "metadata": {},
   "outputs": [
    {
     "name": "stdout",
     "output_type": "stream",
     "text": [
      "Groundtruth avg length: 14.396910868641065\n",
      "Prediction avg length: 9.40357092248831\n",
      "Dist-2 0.8392215018686178\n",
      "Dist-3 0.7108386936695468\n",
      "Dist-2 corpus 0.12053766519491871\n",
      "Dist-3 corpus 0.24071367218697728\n"
     ]
    }
   ],
   "source": [
    "print(\"Groundtruth avg length:\",sum(groundtruth_length_sum)/len(groundtruth_length_sum))\n",
    "print(\"Prediction avg length:\",sum(prediction_length_sum)/len(prediction_length_sum))\n",
    "\n",
    "print(\"Dist-2\",sum(dist_bigram_list)/len(dist_bigram_list))\n",
    "print(\"Dist-3\",sum(dist_trigram_list)/len(dist_trigram_list))\n",
    "\n",
    "all_prediction_tokens=nltk.word_tokenize(all_prediction_text)\n",
    "print(\"Dist-2 corpus\",len(list(set(list(nltk.bigrams(all_prediction_tokens)))))/len(all_prediction_tokens))\n",
    "print(\"Dist-3 corpus\",len(list(set(list(nltk.trigrams(all_prediction_tokens)))))/len(all_prediction_tokens))"
   ]
  },
  {
   "cell_type": "code",
   "execution_count": null,
   "id": "55ac7544-3d4d-49ff-9ea2-4ca85706225a",
   "metadata": {},
   "outputs": [],
   "source": []
  }
 ],
 "metadata": {
  "kernelspec": {
   "display_name": "Python 3 (ipykernel)",
   "language": "python",
   "name": "python3"
  },
  "language_info": {
   "codemirror_mode": {
    "name": "ipython",
    "version": 3
   },
   "file_extension": ".py",
   "mimetype": "text/x-python",
   "name": "python",
   "nbconvert_exporter": "python",
   "pygments_lexer": "ipython3",
   "version": "3.10.6"
  }
 },
 "nbformat": 4,
 "nbformat_minor": 5
}
